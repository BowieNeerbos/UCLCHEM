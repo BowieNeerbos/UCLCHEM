{
 "cells": [
  {
   "cell_type": "markdown",
   "metadata": {},
   "source": [
    "# Running Your First Models\n",
    "\n",
    "A Jupyter notebook in the `Python/` demonstrates how to use the Python UCLCHEM module. This page was automatically generated from that notebook.\n",
    "\n",
    "In this example, we'll run three UCLCHEM models using the cloud model and the python wrapper. We'll also use the python module to plot the results.\n",
    "\n",
    "Note, we ran this from the `Python/` directory meaning `Python/uclchem/` was in our PATH. You can run scripts elsewhere but `Python/uclchem/` must either be copied to that location or added to your PYTHON_PATH environmental variable."
   ]
  },
  {
   "cell_type": "code",
   "execution_count": 7,
   "metadata": {},
   "outputs": [],
   "source": [
    "import uclchem\n",
    "import pandas as pd\n",
    "import matplotlib.pyplot as plt"
   ]
  },
  {
   "cell_type": "markdown",
   "metadata": {},
   "source": [
    "# Phase 1\n",
    "\n",
    "It's typical when running UCLCHEM to run the model in two phases. If, for example, one wishes to model a hot core, the gas should be well processed by the time the protostar \"turns on\". This could be achieved by initializing the abundances to some known values for a prestellar core but instead we do the following:\n",
    "\n",
    "- Run a model starting from some very diffuse, atomic gas\n",
    "- Allow it to collapse in freefall to the density of the object we wish to model\n",
    "- Store the abundances as the initial abundances for the hot core model\n",
    "\n",
    "UCLCHEM is set up to do this through the ```phase``` parameter. All physics modules will model a homogenous cloud that can collapse under freefall when ```phase=1``` and then they do their specific physical model when ```phase=2```"
   ]
  },
  {
   "cell_type": "code",
   "execution_count": 8,
   "metadata": {
    "scrolled": true
   },
   "outputs": [
    {
     "data": {
      "text/plain": [
       "0"
      ]
     },
     "execution_count": 8,
     "metadata": {},
     "output_type": "execute_result"
    }
   ],
   "source": [
    "#set a parameter dictionary for phase 1 collapse model\n",
    "\n",
    "outSpecies=\"SO CO\"\n",
    "param_dict = {\"phase\": 1, \"switch\": 1, \"collapse\": 1, \"readAbunds\": 0, \"writeStep\": 1,\n",
    "               \"outSpecies\": outSpecies, \"initialDens\": 1e2, \"initialTemp\":10.0,\n",
    "               \"finalDens\":1e5, \"finalTime\":5.0e6,\n",
    "               \"outputFile\":\"../examples/test-output/phase1-full.dat\",\n",
    "               \"abundSaveFile\":\"../examples/test-output/startcollapse.dat\"}\n",
    "uclchem.run_model(param_dict)\n"
   ]
  },
  {
   "cell_type": "markdown",
   "metadata": {},
   "source": [
    "We can look at the output for that model by using pandas to read the file (skipping 2 rows to miss the header) and matplotlib to view abundances."
   ]
  },
  {
   "cell_type": "code",
   "execution_count": 9,
   "metadata": {},
   "outputs": [
    {
     "data": {
      "text/html": [
       "<div>\n",
       "<style scoped>\n",
       "    .dataframe tbody tr th:only-of-type {\n",
       "        vertical-align: middle;\n",
       "    }\n",
       "\n",
       "    .dataframe tbody tr th {\n",
       "        vertical-align: top;\n",
       "    }\n",
       "\n",
       "    .dataframe thead th {\n",
       "        text-align: right;\n",
       "    }\n",
       "</style>\n",
       "<table border=\"1\" class=\"dataframe\">\n",
       "  <thead>\n",
       "    <tr style=\"text-align: right;\">\n",
       "      <th></th>\n",
       "      <th>Time</th>\n",
       "      <th>Density</th>\n",
       "      <th>gasTemp</th>\n",
       "      <th>av</th>\n",
       "      <th>point</th>\n",
       "      <th>H</th>\n",
       "      <th>#H</th>\n",
       "      <th>H+</th>\n",
       "      <th>@H</th>\n",
       "      <th>H2</th>\n",
       "      <th>...</th>\n",
       "      <th>HSO2+</th>\n",
       "      <th>H2S2+</th>\n",
       "      <th>H2S2</th>\n",
       "      <th>#H2S2</th>\n",
       "      <th>@H2S2</th>\n",
       "      <th>BULK</th>\n",
       "      <th>SURFACE</th>\n",
       "      <th>E-</th>\n",
       "      <th>zeta</th>\n",
       "      <th>radfield</th>\n",
       "    </tr>\n",
       "  </thead>\n",
       "  <tbody>\n",
       "    <tr>\n",
       "      <th>0</th>\n",
       "      <td>0.000000e+00</td>\n",
       "      <td>100.1</td>\n",
       "      <td>10.0</td>\n",
       "      <td>2.0096</td>\n",
       "      <td>1</td>\n",
       "      <td>0.5</td>\n",
       "      <td>0.000000e+00</td>\n",
       "      <td>0.000000e+00</td>\n",
       "      <td>0.000000e+00</td>\n",
       "      <td>0.25</td>\n",
       "      <td>...</td>\n",
       "      <td>0.000000e+00</td>\n",
       "      <td>0.000000e+00</td>\n",
       "      <td>0.000000e+00</td>\n",
       "      <td>0.000000e+00</td>\n",
       "      <td>0.000000e+00</td>\n",
       "      <td>0.000000e+00</td>\n",
       "      <td>0.000000e+00</td>\n",
       "      <td>0.000182</td>\n",
       "      <td>1.0</td>\n",
       "      <td>1.0</td>\n",
       "    </tr>\n",
       "    <tr>\n",
       "      <th>1</th>\n",
       "      <td>1.000000e-07</td>\n",
       "      <td>100.1</td>\n",
       "      <td>10.0</td>\n",
       "      <td>2.0097</td>\n",
       "      <td>1</td>\n",
       "      <td>0.5</td>\n",
       "      <td>5.960590e-15</td>\n",
       "      <td>1.789030e-17</td>\n",
       "      <td>3.577000e-24</td>\n",
       "      <td>0.25</td>\n",
       "      <td>...</td>\n",
       "      <td>1.000000e-30</td>\n",
       "      <td>1.000000e-30</td>\n",
       "      <td>1.000000e-30</td>\n",
       "      <td>1.000000e-30</td>\n",
       "      <td>1.000000e-30</td>\n",
       "      <td>3.584320e-24</td>\n",
       "      <td>5.972770e-15</td>\n",
       "      <td>0.000182</td>\n",
       "      <td>1.0</td>\n",
       "      <td>1.0</td>\n",
       "    </tr>\n",
       "    <tr>\n",
       "      <th>2</th>\n",
       "      <td>1.000000e-06</td>\n",
       "      <td>100.1</td>\n",
       "      <td>10.0</td>\n",
       "      <td>2.0097</td>\n",
       "      <td>1</td>\n",
       "      <td>0.5</td>\n",
       "      <td>5.882710e-14</td>\n",
       "      <td>1.789030e-16</td>\n",
       "      <td>3.480610e-22</td>\n",
       "      <td>0.25</td>\n",
       "      <td>...</td>\n",
       "      <td>1.000000e-30</td>\n",
       "      <td>1.000000e-30</td>\n",
       "      <td>1.032640e-30</td>\n",
       "      <td>1.000000e-30</td>\n",
       "      <td>1.000000e-30</td>\n",
       "      <td>3.487720e-22</td>\n",
       "      <td>5.894740e-14</td>\n",
       "      <td>0.000182</td>\n",
       "      <td>1.0</td>\n",
       "      <td>1.0</td>\n",
       "    </tr>\n",
       "    <tr>\n",
       "      <th>3</th>\n",
       "      <td>1.000000e-05</td>\n",
       "      <td>100.1</td>\n",
       "      <td>10.0</td>\n",
       "      <td>2.0097</td>\n",
       "      <td>1</td>\n",
       "      <td>0.5</td>\n",
       "      <td>5.874910e-13</td>\n",
       "      <td>1.789040e-15</td>\n",
       "      <td>3.471290e-20</td>\n",
       "      <td>0.25</td>\n",
       "      <td>...</td>\n",
       "      <td>1.000000e-30</td>\n",
       "      <td>1.000000e-30</td>\n",
       "      <td>1.065280e-30</td>\n",
       "      <td>1.000000e-30</td>\n",
       "      <td>1.000000e-30</td>\n",
       "      <td>3.478390e-20</td>\n",
       "      <td>5.886930e-13</td>\n",
       "      <td>0.000182</td>\n",
       "      <td>1.0</td>\n",
       "      <td>1.0</td>\n",
       "    </tr>\n",
       "    <tr>\n",
       "      <th>4</th>\n",
       "      <td>1.000000e-04</td>\n",
       "      <td>100.1</td>\n",
       "      <td>10.0</td>\n",
       "      <td>2.0097</td>\n",
       "      <td>1</td>\n",
       "      <td>0.5</td>\n",
       "      <td>5.872330e-12</td>\n",
       "      <td>1.789080e-14</td>\n",
       "      <td>3.468980e-18</td>\n",
       "      <td>0.25</td>\n",
       "      <td>...</td>\n",
       "      <td>1.000000e-30</td>\n",
       "      <td>1.000000e-30</td>\n",
       "      <td>1.098590e-30</td>\n",
       "      <td>1.000000e-30</td>\n",
       "      <td>1.000000e-30</td>\n",
       "      <td>3.476320e-18</td>\n",
       "      <td>5.885180e-12</td>\n",
       "      <td>0.000182</td>\n",
       "      <td>1.0</td>\n",
       "      <td>1.0</td>\n",
       "    </tr>\n",
       "  </tbody>\n",
       "</table>\n",
       "<p>5 rows × 321 columns</p>\n",
       "</div>"
      ],
      "text/plain": [
       "           Time  Density  gasTemp      av  point    H            #H  \\\n",
       "0  0.000000e+00    100.1     10.0  2.0096      1  0.5  0.000000e+00   \n",
       "1  1.000000e-07    100.1     10.0  2.0097      1  0.5  5.960590e-15   \n",
       "2  1.000000e-06    100.1     10.0  2.0097      1  0.5  5.882710e-14   \n",
       "3  1.000000e-05    100.1     10.0  2.0097      1  0.5  5.874910e-13   \n",
       "4  1.000000e-04    100.1     10.0  2.0097      1  0.5  5.872330e-12   \n",
       "\n",
       "             H+            @H    H2  ...         HSO2+         H2S2+  \\\n",
       "0  0.000000e+00  0.000000e+00  0.25  ...  0.000000e+00  0.000000e+00   \n",
       "1  1.789030e-17  3.577000e-24  0.25  ...  1.000000e-30  1.000000e-30   \n",
       "2  1.789030e-16  3.480610e-22  0.25  ...  1.000000e-30  1.000000e-30   \n",
       "3  1.789040e-15  3.471290e-20  0.25  ...  1.000000e-30  1.000000e-30   \n",
       "4  1.789080e-14  3.468980e-18  0.25  ...  1.000000e-30  1.000000e-30   \n",
       "\n",
       "           H2S2         #H2S2         @H2S2          BULK       SURFACE  \\\n",
       "0  0.000000e+00  0.000000e+00  0.000000e+00  0.000000e+00  0.000000e+00   \n",
       "1  1.000000e-30  1.000000e-30  1.000000e-30  3.584320e-24  5.972770e-15   \n",
       "2  1.032640e-30  1.000000e-30  1.000000e-30  3.487720e-22  5.894740e-14   \n",
       "3  1.065280e-30  1.000000e-30  1.000000e-30  3.478390e-20  5.886930e-13   \n",
       "4  1.098590e-30  1.000000e-30  1.000000e-30  3.476320e-18  5.885180e-12   \n",
       "\n",
       "         E-  zeta  radfield  \n",
       "0  0.000182   1.0       1.0  \n",
       "1  0.000182   1.0       1.0  \n",
       "2  0.000182   1.0       1.0  \n",
       "3  0.000182   1.0       1.0  \n",
       "4  0.000182   1.0       1.0  \n",
       "\n",
       "[5 rows x 321 columns]"
      ]
     },
     "execution_count": 9,
     "metadata": {},
     "output_type": "execute_result"
    }
   ],
   "source": [
    "phase1_df=uclchem.read_output_file(\"../examples/test-output/phase1-full.dat\")\n",
    "phase1_df.head()"
   ]
  },
  {
   "cell_type": "code",
   "execution_count": 10,
   "metadata": {},
   "outputs": [
    {
     "data": {
      "image/png": "[encoded data removed]",
      "text/plain": [
       "<Figure size 432x288 with 1 Axes>"
      ]
     },
     "metadata": {
      "needs_background": "light"
     },
     "output_type": "display_data"
    }
   ],
   "source": [
    "species=[\"CO\",\"#CO\",\"HCN\",\"#HCN\"]\n",
    "fig,ax=uclchem.create_abundance_plot(phase1_df,species)\n",
    "ax=ax.set(xscale=\"log\")\n",
    "plt.show()"
   ]
  },
  {
   "cell_type": "markdown",
   "metadata": {},
   "source": [
    "# Phase 2\n",
    "\n",
    "Note the ```abundFile``` and ```readAbunds``` parameters in our phase 1 model. If ```readAbunds``` is set to 0 then the abundances at the end of the model are written to ```abundFile```. If, instead, ```readAbunds``` is set to 1, the initial abundances are read from that file. Thus by switching ```readAbunds``` over, we can run phase 2 starting from the final abundances of the previous model."
   ]
  },
  {
   "cell_type": "code",
   "execution_count": 15,
   "metadata": {},
   "outputs": [
    {
     "data": {
      "text/plain": [
       "0"
      ]
     },
     "execution_count": 15,
     "metadata": {},
     "output_type": "execute_result"
    }
   ],
   "source": [
    "#read old abundances and do hot core behaviour\n",
    "param_dict[\"readAbunds\"]=1\n",
    "param_dict[\"phase\"]=2\n",
    "\n",
    "#change other bits of input to set up phase 2\n",
    "param_dict[\"initialDens\"]=1e5\n",
    "param_dict[\"tempindx\"]=3 #selects mass of protostar (see cloud.f90)\n",
    "param_dict[\"finalTime\"]=1e6\n",
    "param_dict[\"switch\"]=0\n",
    "\n",
    "param_dict.pop(\"abundSaveFile\") #this is still set to startcollapse.dat from phase 1 so remove it or change it.\n",
    "param_dict[\"abundLoadFile\"]=\"../examples/test-output/startcollapse.dat\"\n",
    "param_dict[\"outputFile\"]=\"../examples/test-output/phase1-full.dat\"\n",
    "\n",
    "\n",
    "uclchem.run_model(param_dict)"
   ]
  },
  {
   "cell_type": "code",
   "execution_count": 16,
   "metadata": {},
   "outputs": [
    {
     "ename": "FileNotFoundError",
     "evalue": "[Errno 2] No such file or directory: '../examples/test-output/phase2-full.dat'",
     "output_type": "error",
     "traceback": [
      "\u001b[0;31m---------------------------------------------------------------------------\u001b[0m",
      "\u001b[0;31mFileNotFoundError\u001b[0m                         Traceback (most recent call last)",
      "\u001b[0;32m<ipython-input-16-d5440f9edabf>\u001b[0m in \u001b[0;36m<module>\u001b[0;34m\u001b[0m\n\u001b[0;32m----> 1\u001b[0;31m \u001b[0mphase2_df\u001b[0m\u001b[0;34m=\u001b[0m\u001b[0muclchem\u001b[0m\u001b[0;34m.\u001b[0m\u001b[0mread_output_file\u001b[0m\u001b[0;34m(\u001b[0m\u001b[0;34m\"../examples/test-output/phase2-full.dat\"\u001b[0m\u001b[0;34m)\u001b[0m\u001b[0;34m\u001b[0m\u001b[0;34m\u001b[0m\u001b[0m\n\u001b[0m\u001b[1;32m      2\u001b[0m \u001b[0mphase2_df\u001b[0m\u001b[0;34m.\u001b[0m\u001b[0mtail\u001b[0m\u001b[0;34m(\u001b[0m\u001b[0;34m)\u001b[0m\u001b[0;34m\u001b[0m\u001b[0;34m\u001b[0m\u001b[0m\n",
      "\u001b[0;32m~/UCLCHEM/Python/uclchem/__init__.py\u001b[0m in \u001b[0;36mread_output_file\u001b[0;34m(output_file)\u001b[0m\n\u001b[1;32m     66\u001b[0m         \u001b[0;34m:\u001b[0m\u001b[0;32mreturn\u001b[0m\u001b[0;34m:\u001b[0m \u001b[0;34m(\u001b[0m\u001b[0mdataframe\u001b[0m\u001b[0;34m)\u001b[0m \u001b[0mA\u001b[0m \u001b[0mdataframe\u001b[0m \u001b[0mcontaining\u001b[0m \u001b[0mthe\u001b[0m \u001b[0mabundances\u001b[0m \u001b[0;32mand\u001b[0m \u001b[0mphysical\u001b[0m \u001b[0mparameters\u001b[0m \u001b[0mof\u001b[0m \u001b[0mthe\u001b[0m \u001b[0mmodel\u001b[0m \u001b[0mat\u001b[0m \u001b[0mevery\u001b[0m \u001b[0mtime\u001b[0m \u001b[0mstep\u001b[0m\u001b[0;34m.\u001b[0m\u001b[0;34m\u001b[0m\u001b[0;34m\u001b[0m\u001b[0m\n\u001b[1;32m     67\u001b[0m \t\"\"\"\n\u001b[0;32m---> 68\u001b[0;31m         \u001b[0mf\u001b[0m\u001b[0;34m=\u001b[0m\u001b[0mopen\u001b[0m\u001b[0;34m(\u001b[0m\u001b[0moutput_file\u001b[0m\u001b[0;34m)\u001b[0m\u001b[0;34m\u001b[0m\u001b[0;34m\u001b[0m\u001b[0m\n\u001b[0m\u001b[1;32m     69\u001b[0m         \u001b[0mf\u001b[0m\u001b[0;34m.\u001b[0m\u001b[0mreadline\u001b[0m\u001b[0;34m(\u001b[0m\u001b[0;34m)\u001b[0m\u001b[0;34m\u001b[0m\u001b[0;34m\u001b[0m\u001b[0m\n\u001b[1;32m     70\u001b[0m         \u001b[0mbits\u001b[0m\u001b[0;34m=\u001b[0m\u001b[0mf\u001b[0m\u001b[0;34m.\u001b[0m\u001b[0mreadline\u001b[0m\u001b[0;34m(\u001b[0m\u001b[0;34m)\u001b[0m\u001b[0;34m.\u001b[0m\u001b[0msplit\u001b[0m\u001b[0;34m(\u001b[0m\u001b[0;34m)\u001b[0m\u001b[0;34m\u001b[0m\u001b[0;34m\u001b[0m\u001b[0m\n",
      "\u001b[0;31mFileNotFoundError\u001b[0m: [Errno 2] No such file or directory: '../examples/test-output/phase2-full.dat'"
     ]
    }
   ],
   "source": [
    "phase2_df=uclchem.read_output_file(\"../examples/test-output/phase2-full.dat\")\n",
    "phase2_df.tail()"
   ]
  },
  {
   "cell_type": "code",
   "execution_count": null,
   "metadata": {},
   "outputs": [],
   "source": [
    "species=[\"CO\",\"H2O\",\"CH3OH\",\"#CO\",\"#H2O\",\"#CH3OH\"]\n",
    "\n",
    "fig,[ax,ax2]=plt.subplots(1,2,figsize=(16,9))\n",
    "ax=uclchem.plot_species(ax,phase2_df,species)\n",
    "settings=ax.set(yscale=\"log\",xlim=(1,1e6),ylim=(1e-10,1e-2),\n",
    "            xlabel=\"Time / years\", \n",
    "            ylabel=\"Fractional Abundance\",xscale=\"log\")\n",
    "\n",
    "ax2.plot(phase2_df[\"Time\"],phase2_df[\"Density\"],color=\"black\")\n",
    "ax3=ax2.twinx()\n",
    "ax3.plot(phase2_df[\"Time\"],phase2_df[\"gasTemp\"],color=\"red\")\n",
    "ax2.set(xlabel=\"Time / year\",ylabel=\"Density\")\n",
    "ax3.set(ylabel=\"Temperature\",facecolor=\"red\",xlim=(0,1e6))\n",
    "ax3.tick_params(axis='y', colors='red')"
   ]
  },
  {
   "cell_type": "code",
   "execution_count": null,
   "metadata": {},
   "outputs": [],
   "source": []
  }
 ],
 "metadata": {
  "interpreter": {
   "hash": "dca0ade3e726a953b501b15e8e990130d2b7799f14cfd9f4271676035ebe5511"
  },
  "kernelspec": {
   "display_name": "Python 3",
   "language": "python",
   "name": "python3"
  },
  "language_info": {
   "codemirror_mode": {
    "name": "ipython",
    "version": 3
   },
   "file_extension": ".py",
   "mimetype": "text/x-python",
   "name": "python",
   "nbconvert_exporter": "python",
   "pygments_lexer": "ipython3",
   "version": "3.10.2"
  }
 },
 "nbformat": 4,
 "nbformat_minor": 4
}
