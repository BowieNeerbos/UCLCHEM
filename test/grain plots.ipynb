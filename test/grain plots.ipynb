{
 "cells": [
  {
   "cell_type": "code",
   "execution_count": 529,
   "metadata": {},
   "outputs": [],
   "source": [
    "import pandas as pd\n",
    "import matplotlib.pyplot as plt\n",
    "import numpy as np\n",
    "import seaborn as sns"
   ]
  },
  {
   "cell_type": "code",
   "execution_count": 661,
   "metadata": {},
   "outputs": [],
   "source": [
    "df=pd.read_csv(\"../examples/test-output/static-full.dat\",skiprows=2)\n",
    "\n",
    "df.columns=df.columns.str.strip()"
   ]
  },
  {
   "cell_type": "code",
   "execution_count": 662,
   "metadata": {},
   "outputs": [
    {
     "data": {
      "text/html": [
       "<div>\n",
       "<style scoped>\n",
       "    .dataframe tbody tr th:only-of-type {\n",
       "        vertical-align: middle;\n",
       "    }\n",
       "\n",
       "    .dataframe tbody tr th {\n",
       "        vertical-align: top;\n",
       "    }\n",
       "\n",
       "    .dataframe thead th {\n",
       "        text-align: right;\n",
       "    }\n",
       "</style>\n",
       "<table border=\"1\" class=\"dataframe\">\n",
       "  <thead>\n",
       "    <tr style=\"text-align: right;\">\n",
       "      <th></th>\n",
       "      <th>Time</th>\n",
       "      <th>Density</th>\n",
       "      <th>gasTemp</th>\n",
       "      <th>av</th>\n",
       "      <th>point</th>\n",
       "      <th>H</th>\n",
       "      <th>#H</th>\n",
       "      <th>H+</th>\n",
       "      <th>@H</th>\n",
       "      <th>H2</th>\n",
       "      <th>...</th>\n",
       "      <th>HS2</th>\n",
       "      <th>HS2+</th>\n",
       "      <th>HSO2+</th>\n",
       "      <th>H2S2+</th>\n",
       "      <th>H2S2</th>\n",
       "      <th>#H2S2</th>\n",
       "      <th>@H2S2</th>\n",
       "      <th>BULK</th>\n",
       "      <th>SURFACE</th>\n",
       "      <th>E-</th>\n",
       "    </tr>\n",
       "  </thead>\n",
       "  <tbody>\n",
       "    <tr>\n",
       "      <th>99</th>\n",
       "      <td>96100.0</td>\n",
       "      <td>10000.0</td>\n",
       "      <td>10.0</td>\n",
       "      <td>2.9644</td>\n",
       "      <td>1</td>\n",
       "      <td>0.023955</td>\n",
       "      <td>4.203650e-14</td>\n",
       "      <td>3.515300e-11</td>\n",
       "      <td>4.314610e-27</td>\n",
       "      <td>0.487926</td>\n",
       "      <td>...</td>\n",
       "      <td>6.427970e-13</td>\n",
       "      <td>4.370970e-14</td>\n",
       "      <td>9.755740e-18</td>\n",
       "      <td>4.205110e-17</td>\n",
       "      <td>4.921500e-13</td>\n",
       "      <td>3.826110e-14</td>\n",
       "      <td>3.927100e-27</td>\n",
       "      <td>5.112990e-19</td>\n",
       "      <td>0.000002</td>\n",
       "      <td>0.000007</td>\n",
       "    </tr>\n",
       "    <tr>\n",
       "      <th>100</th>\n",
       "      <td>97100.0</td>\n",
       "      <td>10000.0</td>\n",
       "      <td>10.0</td>\n",
       "      <td>2.9644</td>\n",
       "      <td>1</td>\n",
       "      <td>0.023211</td>\n",
       "      <td>4.136460e-14</td>\n",
       "      <td>3.452840e-11</td>\n",
       "      <td>4.420030e-27</td>\n",
       "      <td>0.488297</td>\n",
       "      <td>...</td>\n",
       "      <td>6.505960e-13</td>\n",
       "      <td>4.371700e-14</td>\n",
       "      <td>1.020150e-17</td>\n",
       "      <td>4.259460e-17</td>\n",
       "      <td>4.953230e-13</td>\n",
       "      <td>4.146530e-14</td>\n",
       "      <td>4.430800e-27</td>\n",
       "      <td>5.323000e-19</td>\n",
       "      <td>0.000002</td>\n",
       "      <td>0.000007</td>\n",
       "    </tr>\n",
       "    <tr>\n",
       "      <th>101</th>\n",
       "      <td>98100.0</td>\n",
       "      <td>10000.0</td>\n",
       "      <td>10.0</td>\n",
       "      <td>2.9644</td>\n",
       "      <td>1</td>\n",
       "      <td>0.022491</td>\n",
       "      <td>4.070300e-14</td>\n",
       "      <td>3.392800e-11</td>\n",
       "      <td>4.553310e-27</td>\n",
       "      <td>0.488657</td>\n",
       "      <td>...</td>\n",
       "      <td>6.582750e-13</td>\n",
       "      <td>4.371760e-14</td>\n",
       "      <td>1.067000e-17</td>\n",
       "      <td>4.311710e-17</td>\n",
       "      <td>4.984000e-13</td>\n",
       "      <td>4.499100e-14</td>\n",
       "      <td>5.032990e-27</td>\n",
       "      <td>5.572620e-19</td>\n",
       "      <td>0.000002</td>\n",
       "      <td>0.000007</td>\n",
       "    </tr>\n",
       "    <tr>\n",
       "      <th>102</th>\n",
       "      <td>99100.0</td>\n",
       "      <td>10000.0</td>\n",
       "      <td>10.0</td>\n",
       "      <td>2.9644</td>\n",
       "      <td>1</td>\n",
       "      <td>0.021794</td>\n",
       "      <td>4.005160e-14</td>\n",
       "      <td>3.335110e-11</td>\n",
       "      <td>4.717310e-27</td>\n",
       "      <td>0.489006</td>\n",
       "      <td>...</td>\n",
       "      <td>6.658050e-13</td>\n",
       "      <td>4.371100e-14</td>\n",
       "      <td>1.116230e-17</td>\n",
       "      <td>4.361510e-17</td>\n",
       "      <td>5.013610e-13</td>\n",
       "      <td>4.887030e-14</td>\n",
       "      <td>5.756000e-27</td>\n",
       "      <td>5.867220e-19</td>\n",
       "      <td>0.000003</td>\n",
       "      <td>0.000007</td>\n",
       "    </tr>\n",
       "    <tr>\n",
       "      <th>103</th>\n",
       "      <td>100100.0</td>\n",
       "      <td>10000.0</td>\n",
       "      <td>10.0</td>\n",
       "      <td>2.9644</td>\n",
       "      <td>1</td>\n",
       "      <td>0.021118</td>\n",
       "      <td>3.941020e-14</td>\n",
       "      <td>3.279730e-11</td>\n",
       "      <td>4.931790e-27</td>\n",
       "      <td>0.489344</td>\n",
       "      <td>...</td>\n",
       "      <td>6.731560e-13</td>\n",
       "      <td>4.369660e-14</td>\n",
       "      <td>1.167970e-17</td>\n",
       "      <td>4.408480e-17</td>\n",
       "      <td>5.041880e-13</td>\n",
       "      <td>5.313710e-14</td>\n",
       "      <td>6.649590e-27</td>\n",
       "      <td>6.233800e-19</td>\n",
       "      <td>0.000003</td>\n",
       "      <td>0.000007</td>\n",
       "    </tr>\n",
       "  </tbody>\n",
       "</table>\n",
       "<p>5 rows × 309 columns</p>\n",
       "</div>"
      ],
      "text/plain": [
       "         Time  Density  gasTemp      av  point         H            #H  \\\n",
       "99    96100.0  10000.0     10.0  2.9644      1  0.023955  4.203650e-14   \n",
       "100   97100.0  10000.0     10.0  2.9644      1  0.023211  4.136460e-14   \n",
       "101   98100.0  10000.0     10.0  2.9644      1  0.022491  4.070300e-14   \n",
       "102   99100.0  10000.0     10.0  2.9644      1  0.021794  4.005160e-14   \n",
       "103  100100.0  10000.0     10.0  2.9644      1  0.021118  3.941020e-14   \n",
       "\n",
       "               H+            @H        H2  ...           HS2          HS2+  \\\n",
       "99   3.515300e-11  4.314610e-27  0.487926  ...  6.427970e-13  4.370970e-14   \n",
       "100  3.452840e-11  4.420030e-27  0.488297  ...  6.505960e-13  4.371700e-14   \n",
       "101  3.392800e-11  4.553310e-27  0.488657  ...  6.582750e-13  4.371760e-14   \n",
       "102  3.335110e-11  4.717310e-27  0.489006  ...  6.658050e-13  4.371100e-14   \n",
       "103  3.279730e-11  4.931790e-27  0.489344  ...  6.731560e-13  4.369660e-14   \n",
       "\n",
       "            HSO2+         H2S2+          H2S2         #H2S2         @H2S2  \\\n",
       "99   9.755740e-18  4.205110e-17  4.921500e-13  3.826110e-14  3.927100e-27   \n",
       "100  1.020150e-17  4.259460e-17  4.953230e-13  4.146530e-14  4.430800e-27   \n",
       "101  1.067000e-17  4.311710e-17  4.984000e-13  4.499100e-14  5.032990e-27   \n",
       "102  1.116230e-17  4.361510e-17  5.013610e-13  4.887030e-14  5.756000e-27   \n",
       "103  1.167970e-17  4.408480e-17  5.041880e-13  5.313710e-14  6.649590e-27   \n",
       "\n",
       "             BULK   SURFACE        E-  \n",
       "99   5.112990e-19  0.000002  0.000007  \n",
       "100  5.323000e-19  0.000002  0.000007  \n",
       "101  5.572620e-19  0.000002  0.000007  \n",
       "102  5.867220e-19  0.000003  0.000007  \n",
       "103  6.233800e-19  0.000003  0.000007  \n",
       "\n",
       "[5 rows x 309 columns]"
      ]
     },
     "execution_count": 662,
     "metadata": {},
     "output_type": "execute_result"
    }
   ],
   "source": [
    "df.tail()"
   ]
  },
  {
   "cell_type": "code",
   "execution_count": 663,
   "metadata": {},
   "outputs": [],
   "source": [
    "def ice_total(species):\n",
    "    return df[f\"#{species}\"].values+df[f\"@{species}\"].values"
   ]
  },
  {
   "cell_type": "code",
   "execution_count": 664,
   "metadata": {
    "scrolled": false
   },
   "outputs": [
    {
     "data": {
      "image/png": "[encoded data removed]",
      "text/plain": [
       "<Figure size 1152x648 with 4 Axes>"
      ]
     },
     "metadata": {
      "needs_background": "light"
     },
     "output_type": "display_data"
    }
   ],
   "source": [
    "fgi,axes=plt.subplots(2,2,figsize=(16,9))\n",
    "species=[\"CO\",\"H2O\",\"O\",\"CH3OH\"]\n",
    "for i,ax in enumerate(axes.flatten()):\n",
    "    spec=species[i]\n",
    "    ax.plot(df[\"Time\"],df[f\"#{spec}\"],label=f\"#{spec}\")\n",
    "    ax.plot(df[\"Time\"],df[f\"@{spec}\"],label=f\"@{spec}\")\n",
    "    ax.plot(df[\"Time\"],ice_total(spec),label=f\"{spec}\",color=\"black\")\n",
    "    ax.plot()\n",
    "    ax.set(yscale=\"log\",ylim=(1e-15,1e-3),xscale=\"log\",xlim=(1e3,1e7))\n",
    "    ax.legend()"
   ]
  },
  {
   "cell_type": "code",
   "execution_count": 665,
   "metadata": {
    "scrolled": true
   },
   "outputs": [
    {
     "data": {
      "text/plain": [
       "[<matplotlib.lines.Line2D at 0x7f18da70cfd0>]"
      ]
     },
     "execution_count": 665,
     "metadata": {},
     "output_type": "execute_result"
    },
    {
     "data": {
      "image/png": "[encoded data removed]",
      "text/plain": [
       "<Figure size 432x288 with 1 Axes>"
      ]
     },
     "metadata": {
      "needs_background": "light"
     },
     "output_type": "display_data"
    }
   ],
   "source": [
    "sites_per_grain=1884955.6446075444\n",
    "gas_to_dust=756764614951.04846\n",
    "\n",
    "surface_per_grain=df[\"SURFACE\"]*gas_to_dust\n",
    "surface_layers=surface_per_grain/sites_per_grain\n",
    "\n",
    "plt.plot(surface_layers)"
   ]
  },
  {
   "cell_type": "code",
   "execution_count": null,
   "metadata": {},
   "outputs": [],
   "source": []
  },
  {
   "cell_type": "code",
   "execution_count": null,
   "metadata": {},
   "outputs": [],
   "source": []
  },
  {
   "cell_type": "code",
   "execution_count": null,
   "metadata": {},
   "outputs": [],
   "source": []
  },
  {
   "cell_type": "code",
   "execution_count": null,
   "metadata": {},
   "outputs": [],
   "source": []
  },
  {
   "cell_type": "code",
   "execution_count": null,
   "metadata": {},
   "outputs": [],
   "source": []
  },
  {
   "cell_type": "code",
   "execution_count": null,
   "metadata": {},
   "outputs": [],
   "source": []
  },
  {
   "cell_type": "code",
   "execution_count": null,
   "metadata": {},
   "outputs": [],
   "source": []
  },
  {
   "cell_type": "code",
   "execution_count": null,
   "metadata": {},
   "outputs": [],
   "source": []
  },
  {
   "cell_type": "code",
   "execution_count": null,
   "metadata": {},
   "outputs": [],
   "source": []
  }
 ],
 "metadata": {
  "kernelspec": {
   "display_name": "Python 3",
   "language": "python",
   "name": "python3"
  },
  "language_info": {
   "codemirror_mode": {
    "name": "ipython",
    "version": 3
   },
   "file_extension": ".py",
   "mimetype": "text/x-python",
   "name": "python",
   "nbconvert_exporter": "python",
   "pygments_lexer": "ipython3",
   "version": "3.7.6"
  }
 },
 "nbformat": 4,
 "nbformat_minor": 4
}
