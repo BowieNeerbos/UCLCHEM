{
 "cells": [
  {
   "cell_type": "markdown",
   "metadata": {},
   "source": [
    "# Running Your First Models\n",
    "\n",
    "In this notebook, we demonstrate the basic use of UCLCHEM's python module by running a simple model and then using the analysis functions to examine the output."
   ]
  },
  {
   "cell_type": "code",
   "execution_count": 1,
   "metadata": {},
   "outputs": [],
   "source": [
    "import uclchem\n",
    "import pandas as pd\n",
    "import matplotlib.pyplot as plt"
   ]
  },
  {
   "cell_type": "markdown",
   "metadata": {},
   "source": [
    "## A Simple Cloud\n",
    "\n",
    "UCLCHEM's `cloud()` model is a spherical cloud of isothermal gas. We can keep a constant density or have it increase over time following a freefall equation. This model is generally useful whenever you want to model a homogeneous cloud of gas under constant conditions. For example, in the inner parts of a molecular cloud where Av $\\gtrsim$ 10 there are very few depth dependent processes. You may wish to model the whole of this UV shielded portion of the cloud with a single `cloud()` model.\n",
    "\n",
    "Due to the large number of parameters in a chemical model and the way fortran and python interaction, we find it is easiest to do parameter input through python dictionaries. In this block, we define param_dict which contains the parameters we wish to modify for this run. Every `uclchem.model` function accepts a dictionary as an optional argument. Every parameter has a default value which is overriden if that parameter is specified in this dictionary."
   ]
  },
  {
   "cell_type": "code",
   "execution_count": 2,
   "metadata": {},
   "outputs": [
    {
     "name": "stdout",
     "output_type": "stream",
     "text": [
      "[4.50816626e-08 3.61686080e-05]\n"
     ]
    }
   ],
   "source": [
    "# set a parameter dictionary for phase 1 collapse model\n",
    "\n",
    "out_species = [\"SO\",\"CO\"]\n",
    "param_dict = {\n",
    "    \"endAtFinalDensity\": False,#stop at finalTime\n",
    "    \"freefall\": False,#don't increase density in freefall\n",
    "    \"initialDens\": 1e4, #starting density\n",
    "    \"initialTemp\": 10.0,#temperature of gas\n",
    "    \"finalTime\": 1.0e6, #final time\n",
    "    \"rout\":0.1, #radius of cloud in pc\n",
    "    \"baseAv\":1.0, #visual extinction at cloud edge.\n",
    "    \"outputFile\": \"../examples/test-output/static-full.dat\",#full UCLCHEM output\n",
    "    \"abundSaveFile\": \"../examples/test-output/startcollapse.dat\",#save final abundances to file\n",
    "}\n",
    "result = uclchem.model.cloud(param_dict=param_dict,out_species=out_species)\n",
    "print(result)\n"
   ]
  },
  {
   "cell_type": "markdown",
   "metadata": {},
   "source": [
    "## Checking the output\n",
    "\n",
    "The `result` we printed was a list of the final abundances of the two species listed in `out_species` for this model. This is useful when we want to use UCLCHEM as part of something like an MCMC procedure, obtaining abundances for given parameters. However, we also write the final abundances of all species to `abundSaveFile` and the abundances of all species at every time step in `outputFile`.\n",
    "\n",
    "The output file is just a simple csv with some header rows, UCLCHEM has a utility function to read that file into a pandas dataframe. Let's load it up and look at it.\n",
    "\n"
   ]
  },
  {
   "cell_type": "code",
   "execution_count": 2,
   "metadata": {},
   "outputs": [
    {
     "data": {
      "text/html": [
       "<div>\n",
       "<style scoped>\n",
       "    .dataframe tbody tr th:only-of-type {\n",
       "        vertical-align: middle;\n",
       "    }\n",
       "\n",
       "    .dataframe tbody tr th {\n",
       "        vertical-align: top;\n",
       "    }\n",
       "\n",
       "    .dataframe thead th {\n",
       "        text-align: right;\n",
       "    }\n",
       "</style>\n",
       "<table border=\"1\" class=\"dataframe\">\n",
       "  <thead>\n",
       "    <tr style=\"text-align: right;\">\n",
       "      <th></th>\n",
       "      <th>Time</th>\n",
       "      <th>Density</th>\n",
       "      <th>gasTemp</th>\n",
       "      <th>av</th>\n",
       "      <th>zeta</th>\n",
       "      <th>point</th>\n",
       "      <th>H</th>\n",
       "      <th>#H</th>\n",
       "      <th>H+</th>\n",
       "      <th>@H</th>\n",
       "      <th>...</th>\n",
       "      <th>HS2+</th>\n",
       "      <th>HSO2+</th>\n",
       "      <th>H2S2+</th>\n",
       "      <th>H2S2</th>\n",
       "      <th>#H2S2</th>\n",
       "      <th>@H2S2</th>\n",
       "      <th>E-</th>\n",
       "      <th>BULK</th>\n",
       "      <th>SURFACE</th>\n",
       "      <th>radfield</th>\n",
       "    </tr>\n",
       "  </thead>\n",
       "  <tbody>\n",
       "    <tr>\n",
       "      <th>0</th>\n",
       "      <td>0.000000e+00</td>\n",
       "      <td>10000.0</td>\n",
       "      <td>10.0</td>\n",
       "      <td>2.9644</td>\n",
       "      <td>1.0</td>\n",
       "      <td>1</td>\n",
       "      <td>0.5</td>\n",
       "      <td>0.000000e+00</td>\n",
       "      <td>0.000000e+00</td>\n",
       "      <td>0.000000e+00</td>\n",
       "      <td>...</td>\n",
       "      <td>0.000000e+00</td>\n",
       "      <td>0.000000e+00</td>\n",
       "      <td>0.000000e+00</td>\n",
       "      <td>0.000000e+00</td>\n",
       "      <td>0.000000e+00</td>\n",
       "      <td>0.000000e+00</td>\n",
       "      <td>0.000182</td>\n",
       "      <td>0.000000e+00</td>\n",
       "      <td>0.000000e+00</td>\n",
       "      <td>1.0</td>\n",
       "    </tr>\n",
       "    <tr>\n",
       "      <th>1</th>\n",
       "      <td>1.000000e-07</td>\n",
       "      <td>10000.0</td>\n",
       "      <td>10.0</td>\n",
       "      <td>2.9644</td>\n",
       "      <td>1.0</td>\n",
       "      <td>1</td>\n",
       "      <td>0.5</td>\n",
       "      <td>5.680300e-13</td>\n",
       "      <td>1.789040e-17</td>\n",
       "      <td>4.269590e-20</td>\n",
       "      <td>...</td>\n",
       "      <td>1.000000e-30</td>\n",
       "      <td>1.000000e-30</td>\n",
       "      <td>1.000000e-30</td>\n",
       "      <td>1.000000e-30</td>\n",
       "      <td>1.000000e-30</td>\n",
       "      <td>1.000000e-30</td>\n",
       "      <td>0.000182</td>\n",
       "      <td>5.628980e-20</td>\n",
       "      <td>7.488850e-13</td>\n",
       "      <td>1.0</td>\n",
       "    </tr>\n",
       "    <tr>\n",
       "      <th>2</th>\n",
       "      <td>1.000000e-06</td>\n",
       "      <td>10000.0</td>\n",
       "      <td>10.0</td>\n",
       "      <td>2.9644</td>\n",
       "      <td>1.0</td>\n",
       "      <td>1</td>\n",
       "      <td>0.5</td>\n",
       "      <td>5.646510e-12</td>\n",
       "      <td>1.789080e-16</td>\n",
       "      <td>4.219000e-18</td>\n",
       "      <td>...</td>\n",
       "      <td>1.598840e-30</td>\n",
       "      <td>1.000000e-30</td>\n",
       "      <td>1.000000e-30</td>\n",
       "      <td>1.000020e-30</td>\n",
       "      <td>1.000000e-30</td>\n",
       "      <td>1.000000e-30</td>\n",
       "      <td>0.000182</td>\n",
       "      <td>5.562330e-18</td>\n",
       "      <td>7.444380e-12</td>\n",
       "      <td>1.0</td>\n",
       "    </tr>\n",
       "    <tr>\n",
       "      <th>3</th>\n",
       "      <td>1.000000e-05</td>\n",
       "      <td>10000.0</td>\n",
       "      <td>10.0</td>\n",
       "      <td>2.9644</td>\n",
       "      <td>1.0</td>\n",
       "      <td>1</td>\n",
       "      <td>0.5</td>\n",
       "      <td>5.641440e-11</td>\n",
       "      <td>1.789520e-15</td>\n",
       "      <td>4.212520e-16</td>\n",
       "      <td>...</td>\n",
       "      <td>7.364520e-29</td>\n",
       "      <td>1.000000e-30</td>\n",
       "      <td>1.000000e-30</td>\n",
       "      <td>1.000050e-30</td>\n",
       "      <td>1.000000e-30</td>\n",
       "      <td>1.000010e-30</td>\n",
       "      <td>0.000182</td>\n",
       "      <td>5.554270e-16</td>\n",
       "      <td>7.438940e-11</td>\n",
       "      <td>1.0</td>\n",
       "    </tr>\n",
       "    <tr>\n",
       "      <th>4</th>\n",
       "      <td>1.000000e-04</td>\n",
       "      <td>10000.0</td>\n",
       "      <td>10.0</td>\n",
       "      <td>2.9644</td>\n",
       "      <td>1.0</td>\n",
       "      <td>1</td>\n",
       "      <td>0.5</td>\n",
       "      <td>5.480640e-10</td>\n",
       "      <td>1.793810e-14</td>\n",
       "      <td>4.079700e-14</td>\n",
       "      <td>...</td>\n",
       "      <td>7.459290e-27</td>\n",
       "      <td>1.000000e-30</td>\n",
       "      <td>1.000000e-30</td>\n",
       "      <td>1.000070e-30</td>\n",
       "      <td>1.000000e-30</td>\n",
       "      <td>1.000150e-30</td>\n",
       "      <td>0.000182</td>\n",
       "      <td>5.425080e-14</td>\n",
       "      <td>7.351600e-10</td>\n",
       "      <td>1.0</td>\n",
       "    </tr>\n",
       "  </tbody>\n",
       "</table>\n",
       "<p>5 rows × 321 columns</p>\n",
       "</div>"
      ],
      "text/plain": [
       "           Time  Density  gasTemp      av  zeta  point    H            #H  \\\n",
       "0  0.000000e+00  10000.0     10.0  2.9644   1.0      1  0.5  0.000000e+00   \n",
       "1  1.000000e-07  10000.0     10.0  2.9644   1.0      1  0.5  5.680300e-13   \n",
       "2  1.000000e-06  10000.0     10.0  2.9644   1.0      1  0.5  5.646510e-12   \n",
       "3  1.000000e-05  10000.0     10.0  2.9644   1.0      1  0.5  5.641440e-11   \n",
       "4  1.000000e-04  10000.0     10.0  2.9644   1.0      1  0.5  5.480640e-10   \n",
       "\n",
       "             H+            @H  ...          HS2+         HSO2+         H2S2+  \\\n",
       "0  0.000000e+00  0.000000e+00  ...  0.000000e+00  0.000000e+00  0.000000e+00   \n",
       "1  1.789040e-17  4.269590e-20  ...  1.000000e-30  1.000000e-30  1.000000e-30   \n",
       "2  1.789080e-16  4.219000e-18  ...  1.598840e-30  1.000000e-30  1.000000e-30   \n",
       "3  1.789520e-15  4.212520e-16  ...  7.364520e-29  1.000000e-30  1.000000e-30   \n",
       "4  1.793810e-14  4.079700e-14  ...  7.459290e-27  1.000000e-30  1.000000e-30   \n",
       "\n",
       "           H2S2         #H2S2         @H2S2        E-          BULK  \\\n",
       "0  0.000000e+00  0.000000e+00  0.000000e+00  0.000182  0.000000e+00   \n",
       "1  1.000000e-30  1.000000e-30  1.000000e-30  0.000182  5.628980e-20   \n",
       "2  1.000020e-30  1.000000e-30  1.000000e-30  0.000182  5.562330e-18   \n",
       "3  1.000050e-30  1.000000e-30  1.000010e-30  0.000182  5.554270e-16   \n",
       "4  1.000070e-30  1.000000e-30  1.000150e-30  0.000182  5.425080e-14   \n",
       "\n",
       "        SURFACE  radfield  \n",
       "0  0.000000e+00       1.0  \n",
       "1  7.488850e-13       1.0  \n",
       "2  7.444380e-12       1.0  \n",
       "3  7.438940e-11       1.0  \n",
       "4  7.351600e-10       1.0  \n",
       "\n",
       "[5 rows x 321 columns]"
      ]
     },
     "execution_count": 2,
     "metadata": {},
     "output_type": "execute_result"
    }
   ],
   "source": [
    "result_df=uclchem.analysis.read_output_file(\"../examples/test-output/static-full.dat\")\n",
    "result_df.head()"
   ]
  },
  {
   "cell_type": "markdown",
   "metadata": {},
   "source": [
    "We can also test whether the model run went well by checking for element conservation. We do this because integrator errors often show up as a failure to conserve elemental abundances. \n",
    "\n",
    "We can use `check_element_conservation()` to test whether we conserve elements in this run. This function returns a dictionary where each entry gives the change in the total abundance of an element as a percentage of the original abundance. In an ideal case, these values are 0\\% indicating the total abundance at the end of the model is exactly the same as the total at the start.\n",
    "\n",
    "Changes of less than 1\\% are fine for many cases but if they are too high, you could consider changing the `reltol` and `abstol` parameters that control the integrator accuracy. They are error tolerance so smaller values lead to smaller errors and (usually) longer integration times. The default values were chosen by running a large grid of models and choosing the tolerances with the lowest average run time from those that conserved elements well and rarely failed. Despite this, there are no one-size-fits-all perfect tolerances and you may run into issues with different networks or models."
   ]
  },
  {
   "cell_type": "code",
   "execution_count": 4,
   "metadata": {},
   "outputs": [
    {
     "name": "stdout",
     "output_type": "stream",
     "text": [
      "Percentage change in total abundances:\n",
      "{'H': '0.001%', 'N': '0.000%', 'C': '0.000%', 'O': '0.000%', 'S': '0.000%'}\n"
     ]
    }
   ],
   "source": [
    "conservation=uclchem.analysis.check_element_conservation(result_df,element_list=[\"H\",\"N\",\"C\",\"O\",\"S\"])\n",
    "print(\"Percentage change in total abundances:\")\n",
    "print(conservation)"
   ]
  },
  {
   "cell_type": "markdown",
   "metadata": {},
   "source": [
    "## Plotting Results\n",
    "Finally, you will want to plot your results. This can be done with any plotting library but UCLCHEM does provide a few functions to make quick plots. Note the use of $ symbols in the species list below, this gets the total ice abundance of a species. For two phase models, this is just the surface abudance but for three phase it is the sum of surface and bulk."
   ]
  },
  {
   "cell_type": "code",
   "execution_count": 5,
   "metadata": {},
   "outputs": [
    {
     "data": {
      "image/png": "[encoded data removed]",
      "text/plain": [
       "<Figure size 720x504 with 1 Axes>"
      ]
     },
     "metadata": {
      "needs_background": "light"
     },
     "output_type": "display_data"
    }
   ],
   "source": [
    "species=[\"H\",\"H2\",\"$H\",\"$H2\",\"H2O\",\"$H2O\",\"CO\",\"$CO\",\"$CH3OH\",\"CH3OH\"]\n",
    "fig,ax=uclchem.analysis.create_abundance_plot(result_df,species,figsize=(10,7))\n",
    "ax=ax.set(xscale=\"log\",ylim=(1e-15,1),xlim=(1e3,1e6))"
   ]
  },
  {
   "cell_type": "markdown",
   "metadata": {},
   "source": [
    "and that's it! You've run your first UCLCHEM model, checked that the element conservation is correct, and plotted the abundances."
   ]
  }
 ],
 "metadata": {
  "interpreter": {
   "hash": "dca0ade3e726a953b501b15e8e990130d2b7799f14cfd9f4271676035ebe5511"
  },
  "kernelspec": {
   "display_name": "Python 3.8.11 64-bit ('base': conda)",
   "name": "python3"
  },
  "language_info": {
   "codemirror_mode": {
    "name": "ipython",
    "version": 3
   },
   "file_extension": ".py",
   "mimetype": "text/x-python",
   "name": "python",
   "nbconvert_exporter": "python",
   "pygments_lexer": "ipython3",
   "version": "3.8.11"
  }
 },
 "nbformat": 4,
 "nbformat_minor": 4
}
