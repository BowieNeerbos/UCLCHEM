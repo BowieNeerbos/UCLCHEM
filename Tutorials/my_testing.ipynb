{
 "cells": [
  {
   "cell_type": "markdown",
   "metadata": {},
   "source": [
    "# Advanced Physical Modelling\n",
    "\n",
    "It's unlikely that the `cloud()` model will be sufficient for all your modelling needs. In this notebook, we demonstrate the process the UCLCHEM team usually follow to model more complex systems such as hot cores or shocks."
   ]
  },
  {
   "cell_type": "code",
   "execution_count": 8,
   "metadata": {},
   "outputs": [],
   "source": [
    "import uclchem\n",
    "import numpy as np\n",
    "import pandas as pd\n",
    "import matplotlib.pyplot as plt"
   ]
  },
  {
   "cell_type": "markdown",
   "metadata": {},
   "source": [
    "## Initial Conditions\n"
   ]
  },
  {
   "cell_type": "code",
   "execution_count": 9,
   "metadata": {},
   "outputs": [],
   "source": [
    "# set a parameter dictionary for phase 1 collapse model\n",
    "\n",
    "outSpecies = \"SO CO\"\n",
    "param_dict = {\n",
    "    \"switch\": 0,#stop at finalTime#\n",
    "    \"initialDens\": 2e4, #starting density\n",
    "    \"initialTemp\": 10.0,#temperature of gas\n",
    "    \"finalTime\": 1.5e6, #final time\n",
    "    \"rout\":0.2, #radius of cloud in pc\n",
    "    \"baseAv\":1.0, #visual extinction at cloud edge.\n",
    "    \"points\":13,\n",
    "    \"outputFile\": \"../test/collapse.dat\",#full UCLCHEM output\n",
    "    \"abundLoadFile\": \"../test/startcollapse.dat\",#save final abundances to file\n",
    "}\n",
    "#result = uclchem.collapse(\"filament\",\"../test/physics.dat\",param_dict)\n"
   ]
  },
  {
   "cell_type": "code",
   "execution_count": 10,
   "metadata": {},
   "outputs": [
    {
     "name": "stderr",
     "output_type": "stream",
     "text": [
      "/tmp/ipykernel_14627/1151531231.py:1: DtypeWarning: Columns (3) have mixed types.Specify dtype option on import or set low_memory=False.\n",
      "  df=uclchem.read_output_file(param_dict[\"outputFile\"])\n"
     ]
    }
   ],
   "source": [
    "df=uclchem.read_output_file(param_dict[\"outputFile\"])"
   ]
  },
  {
   "cell_type": "code",
   "execution_count": 14,
   "metadata": {},
   "outputs": [
    {
     "data": {
      "image/png": "[encoded data removed]",
      "text/plain": [
       "<Figure size 432x288 with 1 Axes>"
      ]
     },
     "metadata": {
      "needs_background": "light"
     },
     "output_type": "display_data"
    }
   ],
   "source": [
    "fig,ax=plt.subplots()\n",
    "for time in [1e-7,1.05e6,1.1e6]:\n",
    "    idx=df[\"Time\"]>time\n",
    "    dens=df.loc[idx,\"Density\"].values[:13]\n",
    "    point=df.loc[idx,\"point\"].values[:13]*param_dict[\"rout\"]/12.0\n",
    "    ax.plot(point,dens)\n",
    "    ax.set(yscale=\"log\",xscale=\"log\",xlim=(1e-3,1),ylim=(1e2,1e8))\n"
   ]
  },
  {
   "cell_type": "code",
   "execution_count": 15,
   "metadata": {},
   "outputs": [
    {
     "data": {
      "text/plain": [
       "<AxesSubplot:>"
      ]
     },
     "execution_count": 15,
     "metadata": {},
     "output_type": "execute_result"
    },
    {
     "data": {
      "image/png": "[encoded data removed]",
      "text/plain": [
       "<Figure size 432x288 with 1 Axes>"
      ]
     },
     "metadata": {
      "needs_background": "light"
     },
     "output_type": "display_data"
    }
   ],
   "source": [
    "df[\"Time\"].plot()"
   ]
  },
  {
   "cell_type": "code",
   "execution_count": 13,
   "metadata": {},
   "outputs": [],
   "source": [
    "a=4559298747553.3848\n",
    "b=124502560320.51286\n",
    "SECONDS_PER_YEAR=3.16e7"
   ]
  },
  {
   "cell_type": "code",
   "execution_count": 17,
   "metadata": {},
   "outputs": [
    {
     "data": {
      "text/plain": [
       "144281.6059352337"
      ]
     },
     "execution_count": 17,
     "metadata": {},
     "output_type": "execute_result"
    }
   ],
   "source": [
    "a/SECONDS_PER_YEAR"
   ]
  },
  {
   "cell_type": "code",
   "execution_count": 18,
   "metadata": {},
   "outputs": [
    {
     "data": {
      "text/plain": [
       "3939.954440522559"
      ]
     },
     "execution_count": 18,
     "metadata": {},
     "output_type": "execute_result"
    }
   ],
   "source": [
    "b/SECONDS_PER_YEAR"
   ]
  },
  {
   "cell_type": "code",
   "execution_count": null,
   "metadata": {},
   "outputs": [],
   "source": []
  }
 ],
 "metadata": {
  "interpreter": {
   "hash": "dca0ade3e726a953b501b15e8e990130d2b7799f14cfd9f4271676035ebe5511"
  },
  "kernelspec": {
   "display_name": "Python 3.8.11 64-bit ('base': conda)",
   "name": "python3"
  },
  "language_info": {
   "codemirror_mode": {
    "name": "ipython",
    "version": 3
   },
   "file_extension": ".py",
   "mimetype": "text/x-python",
   "name": "python",
   "nbconvert_exporter": "python",
   "pygments_lexer": "ipython3",
   "version": "3.8.11"
  }
 },
 "nbformat": 4,
 "nbformat_minor": 4
}
