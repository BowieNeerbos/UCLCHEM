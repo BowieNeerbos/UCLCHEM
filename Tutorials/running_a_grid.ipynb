{
 "cells": [
  {
   "cell_type": "markdown",
   "metadata": {},
   "source": [
    "# Running a Grid\n",
    "\n",
    "A common task is to run UCLCHEM over a grid of parameter combinations. This notebook sets up a simple approach to doing so for regular grids."
   ]
  },
  {
   "cell_type": "code",
   "execution_count": 2,
   "metadata": {},
   "outputs": [],
   "source": [
    "import uclchem\n",
    "import numpy as np\n",
    "import pandas as pd\n",
    "from multiprocessing import Pool\n",
    "import os"
   ]
  },
  {
   "cell_type": "markdown",
   "metadata": {},
   "source": [
    "## A Simple Grid\n",
    "### Define Parameter Space\n",
    "First, we define our parameter space. We do this by using numpy and pandas to produce a table of all possible combinations of some parameters of interest."
   ]
  },
  {
   "cell_type": "code",
   "execution_count": 31,
   "metadata": {},
   "outputs": [
    {
     "name": "stdout",
     "output_type": "stream",
     "text": [
      "27 models to run\n"
     ]
    }
   ],
   "source": [
    "# This part can be substituted with any choice of grid\n",
    "#here we just vary the density, temperature and zeta \n",
    "temperatures = np.linspace(10, 50, 3)\n",
    "densities = np.logspace(4,6,3)\n",
    "zetas = np.logspace(1, 3, 3)\n",
    "\n",
    "#meshgrid will give all combinations, then we shape into columns and put into a table\n",
    "parameterSpace = np.asarray(np.meshgrid(temperatures,densities,zetas)).reshape(3, -1)\n",
    "model_table=pd.DataFrame(parameterSpace.T, columns=['temperature','density','zeta'])\n",
    "\n",
    "#keep track of where each model output will be saved and make sure that folder exists\n",
    "model_table[\"outputFile\"]=model_table.apply(lambda row: f\"../grid_folder/{row.temperature}_{row.density}_{row.zeta}.csv\", axis=1)\n",
    "print(f\"{model_table.shape[0]} models to run\")\n",
    "if not os.path.exists(\"../grid_folder\"):\n",
    "    os.makedirs(\"../grid_folder\")"
   ]
  },
  {
   "cell_type": "markdown",
   "metadata": {},
   "source": [
    "### Set up the model\n",
    "Next, we need a function that will run our model. We write a quick function that takes a row from our dataframe and uses it to populate a parameter dictionary for UCLCHEM and then run a cloud model. We can then map our dataframe to that function."
   ]
  },
  {
   "cell_type": "code",
   "execution_count": 4,
   "metadata": {},
   "outputs": [],
   "source": [
    "def run_model(row):\n",
    "    #basic set of parameters we'll use for this grid. \n",
    "    ParameterDictionary = {\"endatfinaldensity\":False,\n",
    "                           \"freefall\": False,\n",
    "                           \"initialDens\": row.density,\n",
    "                           \"initialTemp\": row.temperature,\n",
    "                           \"zeta\": row.zeta,\n",
    "                           \"outputFile\": row.outputFile,\n",
    "                           \"finalTime\":1.0e6,\n",
    "                           \"baseAv\":10}\n",
    "    result = uclchem.model.cloud(param_dict=ParameterDictionary)\n",
    "    return result"
   ]
  },
  {
   "cell_type": "markdown",
   "metadata": {},
   "source": [
    "### Run Grid \n",
    "\n",
    "#### The Simple Way\n",
    "We can use pandas apply to simply pass each row to our helper function in turn. This will take some time since we're running the models one by one. I'll use the `head` function just to run five rows as an example here."
   ]
  },
  {
   "cell_type": "code",
   "execution_count": null,
   "metadata": {},
   "outputs": [],
   "source": [
    "result=model_table.head().apply(run_model, axis=1)"
   ]
  },
  {
   "cell_type": "markdown",
   "metadata": {},
   "source": [
    "#### The Fast Way\n",
    "Alternatively, we can use multiprocessing to run the models in parallel. That will allow us to run many models simulataneously and make use of all the cores available on our machine."
   ]
  },
  {
   "cell_type": "code",
   "execution_count": 6,
   "metadata": {},
   "outputs": [],
   "source": [
    "def pool_func(x):\n",
    "    i,row=x\n",
    "    return run_model(row)\n",
    "\n",
    "with Pool(processes=6) as pool:\n",
    "    results = pool.map(pool_func, model_table.iterrows())"
   ]
  },
  {
   "cell_type": "markdown",
   "metadata": {},
   "source": [
    "## Checking Your Grid\n",
    "After running, we should do two things. First, let's add `results` to our dataframe as a new column. Positive results mean a successful UCLCHEM run and negative ones are unsuccessful. Then we can run each model through `check_element_conservation` to check the integration was successful. We'll use both these things to flag models that failed in some way."
   ]
  },
  {
   "cell_type": "code",
   "execution_count": 24,
   "metadata": {},
   "outputs": [],
   "source": [
    "def element_check(output_file):\n",
    "    df=uclchem.analysis.read_output_file(output_file)\n",
    "    #get conservation values\n",
    "    conserves=uclchem.analysis.check_element_conservation(df)\n",
    "    #check if any error is greater than 1%\n",
    "    return all([float(x[:-1])<1 for x in conserves.values()])"
   ]
  },
  {
   "cell_type": "code",
   "execution_count": 36,
   "metadata": {},
   "outputs": [],
   "source": [
    "model_table[\"run_result\"]=results\n",
    "model_table[\"elements_conserved\"]=model_table[\"outputFile\"].map(element_check)\n",
    "#check both conditions are met\n",
    "model_table[\"Successful\"]=(model_table.run_result>=0) & (model_table.elements_conserved)"
   ]
  },
  {
   "cell_type": "code",
   "execution_count": 37,
   "metadata": {},
   "outputs": [
    {
     "data": {
      "text/html": [
       "<div>\n",
       "<style scoped>\n",
       "    .dataframe tbody tr th:only-of-type {\n",
       "        vertical-align: middle;\n",
       "    }\n",
       "\n",
       "    .dataframe tbody tr th {\n",
       "        vertical-align: top;\n",
       "    }\n",
       "\n",
       "    .dataframe thead th {\n",
       "        text-align: right;\n",
       "    }\n",
       "</style>\n",
       "<table border=\"1\" class=\"dataframe\">\n",
       "  <thead>\n",
       "    <tr style=\"text-align: right;\">\n",
       "      <th></th>\n",
       "      <th>temperature</th>\n",
       "      <th>density</th>\n",
       "      <th>zeta</th>\n",
       "      <th>outputFile</th>\n",
       "      <th>run_result</th>\n",
       "      <th>elements_conserved</th>\n",
       "      <th>Successful</th>\n",
       "    </tr>\n",
       "  </thead>\n",
       "  <tbody>\n",
       "    <tr>\n",
       "      <th>0</th>\n",
       "      <td>10.0</td>\n",
       "      <td>10000.0</td>\n",
       "      <td>10.0</td>\n",
       "      <td>../grid_folder/10.0_10000.0_10.0.csv</td>\n",
       "      <td>1</td>\n",
       "      <td>True</td>\n",
       "      <td>True</td>\n",
       "    </tr>\n",
       "    <tr>\n",
       "      <th>1</th>\n",
       "      <td>10.0</td>\n",
       "      <td>10000.0</td>\n",
       "      <td>100.0</td>\n",
       "      <td>../grid_folder/10.0_10000.0_100.0.csv</td>\n",
       "      <td>1</td>\n",
       "      <td>True</td>\n",
       "      <td>True</td>\n",
       "    </tr>\n",
       "    <tr>\n",
       "      <th>2</th>\n",
       "      <td>10.0</td>\n",
       "      <td>10000.0</td>\n",
       "      <td>1000.0</td>\n",
       "      <td>../grid_folder/10.0_10000.0_1000.0.csv</td>\n",
       "      <td>1</td>\n",
       "      <td>True</td>\n",
       "      <td>True</td>\n",
       "    </tr>\n",
       "    <tr>\n",
       "      <th>3</th>\n",
       "      <td>30.0</td>\n",
       "      <td>10000.0</td>\n",
       "      <td>10.0</td>\n",
       "      <td>../grid_folder/30.0_10000.0_10.0.csv</td>\n",
       "      <td>1</td>\n",
       "      <td>True</td>\n",
       "      <td>True</td>\n",
       "    </tr>\n",
       "    <tr>\n",
       "      <th>4</th>\n",
       "      <td>30.0</td>\n",
       "      <td>10000.0</td>\n",
       "      <td>100.0</td>\n",
       "      <td>../grid_folder/30.0_10000.0_100.0.csv</td>\n",
       "      <td>1</td>\n",
       "      <td>True</td>\n",
       "      <td>True</td>\n",
       "    </tr>\n",
       "  </tbody>\n",
       "</table>\n",
       "</div>"
      ],
      "text/plain": [
       "   temperature  density    zeta                              outputFile  \\\n",
       "0         10.0  10000.0    10.0    ../grid_folder/10.0_10000.0_10.0.csv   \n",
       "1         10.0  10000.0   100.0   ../grid_folder/10.0_10000.0_100.0.csv   \n",
       "2         10.0  10000.0  1000.0  ../grid_folder/10.0_10000.0_1000.0.csv   \n",
       "3         30.0  10000.0    10.0    ../grid_folder/30.0_10000.0_10.0.csv   \n",
       "4         30.0  10000.0   100.0   ../grid_folder/30.0_10000.0_100.0.csv   \n",
       "\n",
       "   run_result  elements_conserved  Successful  \n",
       "0           1                True        True  \n",
       "1           1                True        True  \n",
       "2           1                True        True  \n",
       "3           1                True        True  \n",
       "4           1                True        True  "
      ]
     },
     "execution_count": 37,
     "metadata": {},
     "output_type": "execute_result"
    }
   ],
   "source": [
    "model_table.head()"
   ]
  },
  {
   "cell_type": "markdown",
   "metadata": {},
   "source": [
    "## Complex Grid\n",
    "\n",
    "The above was straightforward enough but what about a modelling a grid of shocks? Not only do we want to loop over relevant parameters, we also need to run a few preliminary models to give ourselves starting abundances. We'll start by defining two helper functions, one to run our preliminary cloud and one to run the shock.\n",
    "\n",
    "Let's further imagine that we want to obtain the abundances of several species at the end of the model. We can use the `out_species` parameter to specify which species we want to track and return them to our dataframe."
   ]
  },
  {
   "cell_type": "code",
   "execution_count": 52,
   "metadata": {},
   "outputs": [],
   "source": [
    "out_species=[\"CO\",\"H2O\",\"CH3OH\"]\n",
    "\n",
    "def run_prelim(density):\n",
    "    #basic set of parameters we'll use for this grid. \n",
    "    ParameterDictionary = {\"endatfinaldensity\":True,\n",
    "                           \"freefall\": True,\n",
    "                           \"initialDens\":1e2,\n",
    "                           \"finalDens\": density,\n",
    "                           \"initialTemp\": 10.0,\n",
    "                           \"abundSaveFile\": f\"../grid_folder/starts/{density:.0f}.csv\",\n",
    "                           \"baseAv\":1}\n",
    "    result = uclchem.model.cloud(param_dict=ParameterDictionary)\n",
    "    return result\n",
    "\n",
    "def run_model(row):\n",
    "    i,row=row # we know we're receiving the iterrows() tuple\n",
    "    #basic set of parameters we'll use for this grid. \n",
    "    ParameterDictionary = {\"endatfinaldensity\":False,\n",
    "                           \"freefall\": False,\n",
    "                           \"initialDens\": row.density,\n",
    "                           \"initialTemp\": 10.0,\n",
    "                           \"outputFile\": row.outputFile,\n",
    "                            \"abundSaveFile\": f\"../grid_folder/starts/{row.density:.0f}.csv\",\n",
    "                           \"finalTime\":1.0e5,\n",
    "                           \"baseAv\":1}\n",
    "    result = uclchem.model.cshock(row.shock_velocity,param_dict=ParameterDictionary,out_species=out_species)\n",
    "    #UCLCHEM is going to return our 3 abundances on a success or an integer flag on a failure. \n",
    "    #so we check if the result is a list of size len(out_species) and return NaNs if not\n",
    "    if len(list(result[0]))==len(out_species):\n",
    "        return result[0]\n",
    "    else:\n",
    "        print(result)\n",
    "        return([np.nan]*len(out_species))"
   ]
  },
  {
   "cell_type": "markdown",
   "metadata": {},
   "source": [
    "Then we define our parameter space again. We'll create two folders, one to store a set of initial abundances for each starting density in our model and another to store our shock outputs."
   ]
  },
  {
   "cell_type": "code",
   "execution_count": 43,
   "metadata": {},
   "outputs": [
    {
     "name": "stdout",
     "output_type": "stream",
     "text": [
      "9 models to run\n"
     ]
    }
   ],
   "source": [
    "# This part can be substituted with any choice of grid\n",
    "# here we just combine various initial and final densities into an easily iterable array\n",
    "shock_velocities = np.linspace(10, 50, 3)\n",
    "densities = np.logspace(4,6,3)\n",
    "\n",
    "parameterSpace = np.asarray(np.meshgrid(shock_velocities,densities)).reshape(2, -1)\n",
    "model_table=pd.DataFrame(parameterSpace.T, columns=['shock_velocity','density'])\n",
    "model_table[\"outputFile\"]=model_table.apply(lambda row: f\"../grid_folder/shocks/{row.shock_velocity}_{row.density}.csv\", axis=1)\n",
    "print(f\"{model_table.shape[0]} models to run\")\n",
    "\n",
    "for folder in [\"starts\",\"shocks\"]:\n",
    "    if not os.path.exists(f\"../grid_folder/{folder}\"):\n",
    "        os.makedirs(f\"../grid_folder/{folder}\")"
   ]
  },
  {
   "cell_type": "markdown",
   "metadata": {},
   "source": [
    "We can then run our preliminary models followed by our science models. The science models will return the abundances at the final time step of each run so we can unpack those directly to our dataframe."
   ]
  },
  {
   "cell_type": "code",
   "execution_count": 44,
   "metadata": {},
   "outputs": [],
   "source": [
    "with Pool(processes=3) as pool:\n",
    "    results = pool.map(run_prelim, densities)"
   ]
  },
  {
   "cell_type": "code",
   "execution_count": 51,
   "metadata": {},
   "outputs": [
    {
     "name": "stdout",
     "output_type": "stream",
     "text": [
      " At current T(=R1), MXSTEP(=I1) steps                                            \n",
      " taken on this call before reaching TOUT.                                        \n",
      "In the above message, I1 =      10000\n",
      "In the above message, R1 =   0.2113241378513D+12\n",
      " ISTATE -1: MAXSTEPS will be increased\n",
      " At current T(=R1), MXSTEP(=I1) steps                                            \n",
      " taken on this call before reaching TOUT.                                        \n",
      "In the above message, I1 =      10000\n",
      "In the above message, R1 =   0.1596634158767D+11\n",
      " ISTATE -1: MAXSTEPS will be increased\n"
     ]
    }
   ],
   "source": [
    "with Pool(processes=3) as pool:\n",
    "    results = pool.map(run_model, model_table.iterrows())\n",
    "model_table[out_species]=results"
   ]
  },
  {
   "cell_type": "code",
   "execution_count": 54,
   "metadata": {},
   "outputs": [
    {
     "data": {
      "text/html": [
       "<div>\n",
       "<style scoped>\n",
       "    .dataframe tbody tr th:only-of-type {\n",
       "        vertical-align: middle;\n",
       "    }\n",
       "\n",
       "    .dataframe tbody tr th {\n",
       "        vertical-align: top;\n",
       "    }\n",
       "\n",
       "    .dataframe thead th {\n",
       "        text-align: right;\n",
       "    }\n",
       "</style>\n",
       "<table border=\"1\" class=\"dataframe\">\n",
       "  <thead>\n",
       "    <tr style=\"text-align: right;\">\n",
       "      <th></th>\n",
       "      <th>shock_velocity</th>\n",
       "      <th>density</th>\n",
       "      <th>outputFile</th>\n",
       "      <th>CO</th>\n",
       "      <th>H2O</th>\n",
       "      <th>CH3OH</th>\n",
       "    </tr>\n",
       "  </thead>\n",
       "  <tbody>\n",
       "    <tr>\n",
       "      <th>0</th>\n",
       "      <td>10.0</td>\n",
       "      <td>10000.0</td>\n",
       "      <td>../grid_folder/shocks/10.0_10000.0.csv</td>\n",
       "      <td>5.350002e-05</td>\n",
       "      <td>3.478598e-06</td>\n",
       "      <td>1.531139e-10</td>\n",
       "    </tr>\n",
       "    <tr>\n",
       "      <th>1</th>\n",
       "      <td>30.0</td>\n",
       "      <td>10000.0</td>\n",
       "      <td>../grid_folder/shocks/30.0_10000.0.csv</td>\n",
       "      <td>3.114690e-05</td>\n",
       "      <td>2.197236e-05</td>\n",
       "      <td>6.430248e-10</td>\n",
       "    </tr>\n",
       "    <tr>\n",
       "      <th>2</th>\n",
       "      <td>50.0</td>\n",
       "      <td>10000.0</td>\n",
       "      <td>../grid_folder/shocks/50.0_10000.0.csv</td>\n",
       "      <td>1.894493e-05</td>\n",
       "      <td>6.431733e-06</td>\n",
       "      <td>1.704588e-09</td>\n",
       "    </tr>\n",
       "    <tr>\n",
       "      <th>3</th>\n",
       "      <td>10.0</td>\n",
       "      <td>100000.0</td>\n",
       "      <td>../grid_folder/shocks/10.0_100000.0.csv</td>\n",
       "      <td>6.688131e-08</td>\n",
       "      <td>9.581838e-10</td>\n",
       "      <td>4.158561e-10</td>\n",
       "    </tr>\n",
       "    <tr>\n",
       "      <th>4</th>\n",
       "      <td>30.0</td>\n",
       "      <td>100000.0</td>\n",
       "      <td>../grid_folder/shocks/30.0_100000.0.csv</td>\n",
       "      <td>1.632991e-10</td>\n",
       "      <td>3.793513e-10</td>\n",
       "      <td>4.614506e-10</td>\n",
       "    </tr>\n",
       "    <tr>\n",
       "      <th>5</th>\n",
       "      <td>50.0</td>\n",
       "      <td>100000.0</td>\n",
       "      <td>../grid_folder/shocks/50.0_100000.0.csv</td>\n",
       "      <td>2.712864e-10</td>\n",
       "      <td>3.173975e-10</td>\n",
       "      <td>5.334553e-10</td>\n",
       "    </tr>\n",
       "    <tr>\n",
       "      <th>6</th>\n",
       "      <td>10.0</td>\n",
       "      <td>1000000.0</td>\n",
       "      <td>../grid_folder/shocks/10.0_1000000.0.csv</td>\n",
       "      <td>1.785068e-10</td>\n",
       "      <td>1.320640e-10</td>\n",
       "      <td>1.156020e-11</td>\n",
       "    </tr>\n",
       "    <tr>\n",
       "      <th>7</th>\n",
       "      <td>30.0</td>\n",
       "      <td>1000000.0</td>\n",
       "      <td>../grid_folder/shocks/30.0_1000000.0.csv</td>\n",
       "      <td>2.468740e-10</td>\n",
       "      <td>6.324375e-11</td>\n",
       "      <td>1.476467e-12</td>\n",
       "    </tr>\n",
       "    <tr>\n",
       "      <th>8</th>\n",
       "      <td>50.0</td>\n",
       "      <td>1000000.0</td>\n",
       "      <td>../grid_folder/shocks/50.0_1000000.0.csv</td>\n",
       "      <td>1.713577e-10</td>\n",
       "      <td>1.076491e-11</td>\n",
       "      <td>2.124396e-13</td>\n",
       "    </tr>\n",
       "  </tbody>\n",
       "</table>\n",
       "</div>"
      ],
      "text/plain": [
       "   shock_velocity    density                                outputFile  \\\n",
       "0            10.0    10000.0    ../grid_folder/shocks/10.0_10000.0.csv   \n",
       "1            30.0    10000.0    ../grid_folder/shocks/30.0_10000.0.csv   \n",
       "2            50.0    10000.0    ../grid_folder/shocks/50.0_10000.0.csv   \n",
       "3            10.0   100000.0   ../grid_folder/shocks/10.0_100000.0.csv   \n",
       "4            30.0   100000.0   ../grid_folder/shocks/30.0_100000.0.csv   \n",
       "5            50.0   100000.0   ../grid_folder/shocks/50.0_100000.0.csv   \n",
       "6            10.0  1000000.0  ../grid_folder/shocks/10.0_1000000.0.csv   \n",
       "7            30.0  1000000.0  ../grid_folder/shocks/30.0_1000000.0.csv   \n",
       "8            50.0  1000000.0  ../grid_folder/shocks/50.0_1000000.0.csv   \n",
       "\n",
       "             CO           H2O         CH3OH  \n",
       "0  5.350002e-05  3.478598e-06  1.531139e-10  \n",
       "1  3.114690e-05  2.197236e-05  6.430248e-10  \n",
       "2  1.894493e-05  6.431733e-06  1.704588e-09  \n",
       "3  6.688131e-08  9.581838e-10  4.158561e-10  \n",
       "4  1.632991e-10  3.793513e-10  4.614506e-10  \n",
       "5  2.712864e-10  3.173975e-10  5.334553e-10  \n",
       "6  1.785068e-10  1.320640e-10  1.156020e-11  \n",
       "7  2.468740e-10  6.324375e-11  1.476467e-12  \n",
       "8  1.713577e-10  1.076491e-11  2.124396e-13  "
      ]
     },
     "execution_count": 54,
     "metadata": {},
     "output_type": "execute_result"
    }
   ],
   "source": [
    "model_table"
   ]
  },
  {
   "cell_type": "markdown",
   "metadata": {},
   "source": [
    "## Summary\n",
    "\n",
    "There are many ways to run grids of models and users will naturally develop their own methods. This notebook is just a simple example of how to run UCLCHEM for many parameter combinations whilst producing a useful output (the model_table) to keep track of all the combinations that were run. In a real script, we'd save the model file to csv at the end.\n",
    "\n",
    "For much larger grids, it's recommended that you find a way to make your script robust to failure. Over a huge range of parameters, it is quite likely UCLCHEM will hit integration trouble for at least a few parameter combinations. Very occasionally, UCLCHEM will get caught in a loop where it fails to integrate and cannot adjust its strategy to manage it. This isn't a problem for small grids as the model can be stopped and the tolerances adjusted. However, for very large grids, you may end up locking all threads as they each get stuck on a different model. The best solution we've found for this case is to add a check so that models in your dataframe are skipped if their file already exists, this allows you to stop and restart the grid script as needed.\n"
   ]
  }
 ],
 "metadata": {
  "interpreter": {
   "hash": "40d3a090f54c6569ab1632332b64b2c03c39dcf918b08424e98f38b5ae0af88f"
  },
  "kernelspec": {
   "display_name": "Python 3.8.11 ('base')",
   "language": "python",
   "name": "python3"
  },
  "language_info": {
   "codemirror_mode": {
    "name": "ipython",
    "version": 3
   },
   "file_extension": ".py",
   "mimetype": "text/x-python",
   "name": "python",
   "nbconvert_exporter": "python",
   "pygments_lexer": "ipython3",
   "version": "3.8.11"
  },
  "orig_nbformat": 4
 },
 "nbformat": 4,
 "nbformat_minor": 2
}
